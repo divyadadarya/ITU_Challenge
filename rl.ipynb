{
 "cells": [
  {
   "cell_type": "code",
   "execution_count": 1,
   "metadata": {},
   "outputs": [],
   "source": [
    "import pandas as pd\n",
    "import numpy as np\n",
    "from sklearn.impute import KNNImputer"
   ]
  },
  {
   "cell_type": "code",
   "execution_count": 2,
   "metadata": {},
   "outputs": [],
   "source": [
    "rl_kpis = pd.read_csv('rl-kpis.csv')\n",
    "rl_kpis.drop('Unnamed: 0', axis = 1, inplace = True)"
   ]
  },
  {
   "cell_type": "code",
   "execution_count": 3,
   "metadata": {},
   "outputs": [],
   "source": [
    "def knnImputer(data, attribute):\n",
    "    imputer = KNNImputer()\n",
    "    if int(data[attribute].isnull().sum()) > 0 and (data[attribute].dtypes == 'int64' or data[attribute].dtypes == 'float64'):\n",
    "        imputed_data = imputer.fit_transform(pd.DataFrame(data[attribute]))\n",
    "        data[attribute] = imputed_data\n",
    "        \n",
    "    return data"
   ]
  },
  {
   "cell_type": "code",
   "execution_count": 4,
   "metadata": {},
   "outputs": [],
   "source": [
    "columns = ['severaly_error_second', 'error_second', 'unavail_second', 'avail_time', 'bbe', 'rxlevmax', 'capacity', 'modulation',\n",
    "           'rlf']"
   ]
  },
  {
   "cell_type": "code",
   "execution_count": 5,
   "metadata": {},
   "outputs": [],
   "source": [
    "for x in columns:\n",
    "    rl_kpis = knnImputer(rl_kpis, x)"
   ]
  },
  {
   "cell_type": "code",
   "execution_count": 6,
   "metadata": {},
   "outputs": [],
   "source": [
    "rl_kpis['freq_band'].fillna('f3', inplace = True)"
   ]
  },
  {
   "cell_type": "code",
   "execution_count": 7,
   "metadata": {},
   "outputs": [],
   "source": [
    "rl_kpis.drop_duplicates(inplace = True)"
   ]
  },
  {
   "cell_type": "code",
   "execution_count": 8,
   "metadata": {},
   "outputs": [],
   "source": [
    "rl_kpis.sort_values(['site_id', 'datetime'], ascending = True, inplace = True)"
   ]
  },
  {
   "cell_type": "code",
   "execution_count": 9,
   "metadata": {},
   "outputs": [],
   "source": [
    "rl_kpis['datetime'] = pd.to_datetime(rl_kpis['datetime'], format = '%Y-%m-%d')"
   ]
  },
  {
   "cell_type": "code",
   "execution_count": 10,
   "metadata": {},
   "outputs": [],
   "source": [
    "def resampling(data):\n",
    "    resampled_data = data.resample('1D', on = 'datetime').max()\n",
    "    resampled_data.dropna(axis = 0, how = 'all', inplace = True)\n",
    "    resampled_data.drop(columns = 'datetime', inplace = True)\n",
    "    return resampled_data"
   ]
  },
  {
   "cell_type": "code",
   "execution_count": 11,
   "metadata": {},
   "outputs": [],
   "source": [
    "resampled_data = pd.DataFrame()\n",
    "\n",
    "for x, df_site in rl_kpis.groupby('site_id'):\n",
    "    data = resampling(df_site)\n",
    "    resampled_data = resampled_data.append(data)"
   ]
  },
  {
   "cell_type": "code",
   "execution_count": 12,
   "metadata": {},
   "outputs": [],
   "source": [
    "#resampled_data.to_csv('final_rl_data.csv')"
   ]
  },
  {
   "cell_type": "code",
   "execution_count": null,
   "metadata": {},
   "outputs": [],
   "source": []
  }
 ],
 "metadata": {
  "kernelspec": {
   "display_name": "Python 3",
   "language": "python",
   "name": "python3"
  },
  "language_info": {
   "codemirror_mode": {
    "name": "ipython",
    "version": 3
   },
   "file_extension": ".py",
   "mimetype": "text/x-python",
   "name": "python",
   "nbconvert_exporter": "python",
   "pygments_lexer": "ipython3",
   "version": "3.7.6"
  }
 },
 "nbformat": 4,
 "nbformat_minor": 4
}
